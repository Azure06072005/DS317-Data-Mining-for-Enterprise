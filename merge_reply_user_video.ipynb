{
  "cells": [
    {
      "cell_type": "markdown",
      "metadata": {
        "id": "view-in-github",
        "colab_type": "text"
      },
      "source": [
        "<a href=\"https://colab.research.google.com/github/Azure06072005/DS317-Data-Mining-for-Enterprise/blob/main/merge_reply_user_video.ipynb\" target=\"_parent\"><img src=\"https://colab.research.google.com/assets/colab-badge.svg\" alt=\"Open In Colab\"/></a>"
      ]
    },
    {
      "cell_type": "code",
      "execution_count": 35,
      "metadata": {
        "colab": {
          "base_uri": "https://localhost:8080/"
        },
        "id": "auB2djPDf5N-",
        "outputId": "de4c0f11-ebb4-4f7f-c9df-9b98bd1c3702"
      },
      "outputs": [
        {
          "output_type": "stream",
          "name": "stdout",
          "text": [
            "Drive already mounted at /content/drive; to attempt to forcibly remount, call drive.mount(\"/content/drive\", force_remount=True).\n"
          ]
        }
      ],
      "source": [
        "from google.colab import drive\n",
        "drive.mount('/content/drive')"
      ]
    },
    {
      "cell_type": "markdown",
      "source": [
        "# Import necessary libraries\n"
      ],
      "metadata": {
        "id": "OgqGhknVJwxx"
      }
    },
    {
      "cell_type": "code",
      "source": [
        "import pyspark\n",
        "from pyspark.sql import SparkSession\n",
        "import warnings\n",
        "from pyspark.sql.types import *\n",
        "from pyspark.sql import functions as F\n",
        "from pyspark.sql.types import IntegerType\n",
        "import seaborn as sns\n",
        "import matplotlib.pyplot as plt\n",
        "from os import truncate\n",
        "from pyspark.sql.functions import explode, col, sum, from_unixtime, hour, dayofweek, count, round, when, isnull, split, avg\n",
        "warnings.filterwarnings(\"ignore\")\n",
        "\n",
        "spark = SparkSession.builder \\\n",
        "  .appName(\"reply_user_video_analysis\") \\\n",
        "  .master(\"local[*]\") \\\n",
        "  .config(\"spark.some.config.option\", \"some-value\") \\\n",
        "  .getOrCreate()"
      ],
      "metadata": {
        "id": "w9ro3LtVJ7dO"
      },
      "execution_count": 36,
      "outputs": []
    },
    {
      "cell_type": "code",
      "source": [
        "BASE_DIR = '/content/drive/MyDrive/DS317.Q11 nhóm 8/DataMOOCDS317'\n",
        "MY_TEST_DIR = '/content/drive/MyDrive/DS317.Q11 nhóm 8/Bài tập trên lớp/Bài tập phân tích Dataset/Data/test'\n",
        "df_user_course_path = '/content/drive/MyDrive/DS317.Q11 nhóm 8/DataMOOCDS317/user_course_final_ver3/user_course_v4.csv'"
      ],
      "metadata": {
        "id": "OYPuy3aFLczw"
      },
      "execution_count": 37,
      "outputs": []
    },
    {
      "cell_type": "markdown",
      "source": [
        "# User-video"
      ],
      "metadata": {
        "id": "1ueD6QUhGQt-"
      }
    },
    {
      "cell_type": "code",
      "source": [
        "df_video_id_ccid = spark.read.text(BASE_DIR + '/video_id-ccid.txt')"
      ],
      "metadata": {
        "id": "rHQ-1W13a1zX"
      },
      "execution_count": 38,
      "outputs": []
    },
    {
      "cell_type": "code",
      "source": [
        "df_video_id_ccid = df_video_id_ccid.select(\n",
        "    split(col('value'), \"\\t\")[0].alias(\"video_id\"),\n",
        "    split(col('value'), \"\\t\")[1].alias(\"ccid\")\n",
        ")"
      ],
      "metadata": {
        "id": "TQ-3qlljbNve"
      },
      "execution_count": 39,
      "outputs": []
    },
    {
      "cell_type": "code",
      "source": [
        "df_video = spark.read.json(BASE_DIR + '/video.json')"
      ],
      "metadata": {
        "id": "j-m5yZZKaWtZ"
      },
      "execution_count": 40,
      "outputs": []
    },
    {
      "cell_type": "code",
      "source": [
        "from pyspark.sql.functions import array_max\n",
        "df_video = df_video.withColumn('video_duration', array_max('end'))"
      ],
      "metadata": {
        "id": "TzjL2VC5N9om"
      },
      "execution_count": 41,
      "outputs": []
    },
    {
      "cell_type": "code",
      "source": [
        "df_video_duration = df_video.select(\"ccid\", 'video_duration')"
      ],
      "metadata": {
        "id": "N4F62qzydV6M"
      },
      "execution_count": 42,
      "outputs": []
    },
    {
      "cell_type": "code",
      "source": [
        "df_video = df_video_duration.join(df_video_id_ccid, on=['ccid'], how='left')"
      ],
      "metadata": {
        "id": "YYkOJCeKb0UP"
      },
      "execution_count": 43,
      "outputs": []
    },
    {
      "cell_type": "code",
      "source": [
        "df_user_video = spark.read.json(BASE_DIR + '/user-video.json')\n",
        "# Explode the outer array in 'seq' to get each video sequence as a row\n",
        "df_user_video = df_user_video.select(\"user_id\", explode(\"seq\").alias(\"video_sequence\"))\n",
        "\n",
        "# Select the video_id and explode the 'segment' array within each video sequence\n",
        "df_user_video = df_user_video.select(\n",
        "    \"user_id\",\n",
        "    df_user_video[\"video_sequence\"][\"video_id\"].alias(\"video_id\"),\n",
        "    explode(df_user_video[\"video_sequence\"][\"segment\"]).alias(\"segment_details\")\n",
        ")\n",
        "\n",
        "# Select the individul fields from the 'segment_details' struct\n",
        "df_user_video = df_user_video.select(\n",
        "    \"user_id\",\n",
        "    \"video_id\",\n",
        "    df_user_video[\"segment_details\"][\"start_point\"].alias(\"start_point\"),\n",
        "    df_user_video[\"segment_details\"][\"end_point\"].alias(\"end_point\"),\n",
        "    df_user_video[\"segment_details\"][\"speed\"].alias(\"speed\"),\n",
        "    df_user_video[\"segment_details\"][\"local_start_time\"].alias(\"local_start_time\")\n",
        ")\n",
        "\n",
        "df_user_video = df_user_video.withColumn(\"watched_duration\", round(col('end_point') - col('start_point')))\n",
        "df_user_video = df_user_video.select(\"user_id\", \"video_id\", \"speed\", \"watched_duration\")"
      ],
      "metadata": {
        "id": "d6P26NZzR0sF"
      },
      "execution_count": 44,
      "outputs": []
    },
    {
      "cell_type": "code",
      "source": [
        "df_uv_v = df_user_video.join(df_video, on=['video_id'], how='left')"
      ],
      "metadata": {
        "id": "cxCXp2eMS__N"
      },
      "execution_count": 46,
      "outputs": []
    },
    {
      "cell_type": "code",
      "source": [
        "df_user_video_grouped = (\n",
        "    df_uv_v # Use df_uv_v which contains video_duration\n",
        "    .groupBy(\"user_id\", \"video_id\", \"video_duration\")\n",
        "    .agg(\n",
        "        F.sum(\"watched_duration\").alias(\"watched_duration_total\"),\n",
        "        F.avg(\"speed\").alias(\"avg_speed_per_video\"),\n",
        "        F.first(\"ccid\").alias(\"ccid\")\n",
        "    )\n",
        ")"
      ],
      "metadata": {
        "id": "mzbQWt5YYolz"
      },
      "execution_count": 47,
      "outputs": []
    },
    {
      "cell_type": "code",
      "source": [
        "df_user_stats = (\n",
        "    df_user_video_grouped # Use df_user_video_grouped which contains the aggregated columns\n",
        "    .groupBy(\"user_id\")\n",
        "    .agg(\n",
        "        F.round(\n",
        "            F.sum(F.col(\"watched_duration_total\") * F.col(\"avg_speed_per_video\")) /\n",
        "            F.sum(\"watched_duration_total\"), 2\n",
        "        ).alias(\"avg_speed\"),\n",
        "        F.sum(\"watched_duration_total\").alias(\"total_watched_duration\"),\n",
        "        F.round(\n",
        "            F.sum(\"watched_duration_total\") / F.sum(\"video_duration\"), 3\n",
        "        ).alias(\"avg_completion_rate\"),\n",
        "        F.collect_set(\"video_id\").alias(\"video_list\"),\n",
        "        F.collect_set(\"ccid\").alias(\"ccid_list\"),\n",
        "        F.collect_set(\"video_duration\").alias(\"video_duration_list\")\n",
        "    )\n",
        ")"
      ],
      "metadata": {
        "id": "9eUNZ-ywVIYt"
      },
      "execution_count": 49,
      "outputs": []
    },
    {
      "cell_type": "code",
      "source": [
        "df_user_stats.show()"
      ],
      "metadata": {
        "colab": {
          "base_uri": "https://localhost:8080/"
        },
        "id": "zaZVb_mCYIkd",
        "outputId": "e574d9e3-9ce9-48ab-87d9-74432f211901"
      },
      "execution_count": 50,
      "outputs": [
        {
          "output_type": "stream",
          "name": "stdout",
          "text": [
            "+----------+---------+----------------------+-------------------+--------------------+--------------------+--------------------+\n",
            "|   user_id|avg_speed|total_watched_duration|avg_completion_rate|          video_list|           ccid_list| video_duration_list|\n",
            "+----------+---------+----------------------+-------------------+--------------------+--------------------+--------------------+\n",
            "|U_10001181|      2.0|                2878.0|               NULL|         [V_7386535]|                  []|                  []|\n",
            "|U_10001587|     1.89|                8184.0|               NULL|[V_6012902, V_604...|                  []|                  []|\n",
            "| U_1000290|      1.0|                2311.0|              0.619|[V_6280777, V_628...|[5D058BEE09644CCD...|[1174.279, 859.22...|\n",
            "| U_1000454|      1.0|                 495.0|              0.718|[V_6181150, V_739...|[05F564395C35232E...|   [226.92, 462.142]|\n",
            "|  U_100066|      1.0|                  20.0|               NULL|         [V_6335195]|                  []|                  []|\n",
            "|U_10008027|     1.25|                6280.0|               NULL|[V_6010431, V_604...|                  []|                  []|\n",
            "|U_10011100|      1.0|               32566.0|               NULL|[V_6043053, V_605...|                  []|                  []|\n",
            "|U_10012258|      2.0|               19257.0|               NULL|[V_7386536, V_738...|                  []|                  []|\n",
            "| U_1001314|      1.0|                  20.0|               NULL|         [V_6340765]|                  []|                  []|\n",
            "|U_10013620|      2.0|                3200.0|               NULL|[V_7386536, V_738...|                  []|                  []|\n",
            "|U_10016535|      1.0|                5035.0|               NULL|[V_7386536, V_738...|                  []|                  []|\n",
            "|U_10017170|      1.0|                5518.0|               NULL|[V_7386531, V_738...|                  []|                  []|\n",
            "|U_10017195|      1.0|                3420.0|               NULL|[V_7386533, V_738...|                  []|                  []|\n",
            "|U_10018040|      1.0|                1234.0|               NULL|         [V_7386532]|                  []|                  []|\n",
            "|U_10018490|     1.79|                9577.0|               NULL|[V_7386536, V_738...|                  []|                  []|\n",
            "|U_10018910|      2.0|                7625.0|               NULL|[V_7386536, V_738...|                  []|                  []|\n",
            "| U_1001999|     1.52|                 306.0|               NULL|[V_6354981, V_635...|                  []|                  []|\n",
            "|U_10021046|     1.58|                3404.0|               NULL|[V_7386531, V_738...|                  []|                  []|\n",
            "| U_1002253|      1.0|                 168.0|               NULL|         [V_6293187]|                  []|                  []|\n",
            "| U_1002476|      1.0|                 803.0|               0.32|[V_1353266, V_625...|[292B73EF985AE70A...|[529.556, 980.216...|\n",
            "+----------+---------+----------------------+-------------------+--------------------+--------------------+--------------------+\n",
            "only showing top 20 rows\n",
            "\n"
          ]
        }
      ]
    },
    {
      "cell_type": "code",
      "source": [
        "df_user_course = spark.read.csv(df_user_course_path, header=True, inferSchema=True)"
      ],
      "metadata": {
        "id": "LeigrRpuQIBp"
      },
      "execution_count": 52,
      "outputs": []
    },
    {
      "cell_type": "code",
      "source": [
        "df_uc_us = df_user_course.join(df_user_stats, on=['user_id'], how='left')\n",
        "df_uc_us.show(truncate=False)"
      ],
      "metadata": {
        "colab": {
          "base_uri": "https://localhost:8080/"
        },
        "id": "BpMNGzfQcypG",
        "outputId": "7593c459-e1ba-43e8-8de0-0e1a0f0d7c21"
      },
      "execution_count": 53,
      "outputs": [
        {
          "output_type": "stream",
          "name": "stdout",
          "text": [
            "+----------+---------+-----------+----------+----------+-------------+-------------------+----------+---------+----------------------+-------------------+----------+---------+-------------------+\n",
            "|user_id   |course_id|certificate|start_date|end_date  |duration_days|enroll_time        |remain_day|avg_speed|total_watched_duration|avg_completion_rate|video_list|ccid_list|video_duration_list|\n",
            "+----------+---------+-----------+----------+----------+-------------+-------------------+----------+---------+----------------------+-------------------+----------+---------+-------------------+\n",
            "|U_1000663 |C_2328510|0.0        |2020-11-18|2021-02-28|102.0        |2020-11-27 22:41:36|93.0      |NULL     |NULL                  |NULL               |NULL      |NULL     |NULL               |\n",
            "|U_1000868 |C_947149 |1.0        |2019-12-30|2020-04-19|111.0        |2020-03-02 15:38:45|48.0      |NULL     |NULL                  |NULL               |NULL      |NULL     |NULL               |\n",
            "|U_1000883 |C_947149 |1.0        |2019-12-30|2020-04-19|111.0        |2020-03-04 08:54:01|46.0      |NULL     |NULL                  |NULL               |NULL      |NULL     |NULL               |\n",
            "|U_1000902 |C_696724 |1.0        |2019-11-18|2020-02-29|103.0        |2019-12-29 20:40:49|62.0      |NULL     |NULL                  |NULL               |NULL      |NULL     |NULL               |\n",
            "|U_1000902 |C_947149 |1.0        |2020-04-20|2020-07-31|102.0        |2020-04-21 12:10:47|101.0     |NULL     |NULL                  |NULL               |NULL      |NULL     |NULL               |\n",
            "|U_1000902 |C_676937 |0.0        |2020-09-01|2020-12-31|121.0        |2020-10-14 16:46:34|78.0      |NULL     |NULL                  |NULL               |NULL      |NULL     |NULL               |\n",
            "|U_30690111|C_1875509|1.0        |2020-06-24|2020-08-31|68.0         |2020-06-26 15:24:00|66.0      |NULL     |NULL                  |NULL               |NULL      |NULL     |NULL               |\n",
            "|U_30690119|C_697828 |0.0        |2020-02-14|2020-07-31|168.0        |2020-06-26 15:23:52|35.0      |NULL     |NULL                  |NULL               |NULL      |NULL     |NULL               |\n",
            "|U_30690130|C_1822804|1.0        |2020-06-05|2020-08-10|66.0         |2020-06-26 17:29:30|45.0      |NULL     |NULL                  |NULL               |NULL      |NULL     |NULL               |\n",
            "|U_30690137|C_1822804|1.0        |2020-06-05|2020-08-10|66.0         |2020-06-26 15:40:04|45.0      |NULL     |NULL                  |NULL               |NULL      |NULL     |NULL               |\n",
            "|U_30690139|C_1822804|1.0        |2020-06-05|2020-08-10|66.0         |2020-06-26 15:42:27|45.0      |NULL     |NULL                  |NULL               |NULL      |NULL     |NULL               |\n",
            "|U_30690145|C_1822804|1.0        |2020-06-05|2020-08-10|66.0         |2020-06-26 18:39:23|45.0      |NULL     |NULL                  |NULL               |NULL      |NULL     |NULL               |\n",
            "|U_30690151|C_948241 |1.0        |2020-04-13|2020-07-31|109.0        |2020-06-26 15:41:18|35.0      |NULL     |NULL                  |NULL               |NULL      |NULL     |NULL               |\n",
            "|U_30690163|C_1864067|1.0        |2020-06-18|2020-08-31|74.0         |2020-06-26 15:31:20|66.0      |NULL     |NULL                  |NULL               |NULL      |NULL     |NULL               |\n",
            "|U_30690165|C_758928 |1.0        |2020-02-24|2020-07-31|158.0        |2020-06-26 15:31:32|35.0      |NULL     |NULL                  |NULL               |NULL      |NULL     |NULL               |\n",
            "|U_30690165|C_697828 |0.0        |2020-09-01|2020-12-31|121.0        |2020-09-16 20:27:22|106.0     |NULL     |NULL                  |NULL               |NULL      |NULL     |NULL               |\n",
            "|U_30690167|C_1822804|1.0        |2020-06-05|2020-08-10|66.0         |2020-06-26 15:33:30|45.0      |NULL     |NULL                  |NULL               |NULL      |NULL     |NULL               |\n",
            "|U_30690191|C_1822804|1.0        |2020-06-05|2020-08-10|66.0         |2020-06-26 15:35:57|45.0      |NULL     |NULL                  |NULL               |NULL      |NULL     |NULL               |\n",
            "|U_6126846 |C_696994 |NULL       |NULL      |NULL      |NULL         |2020-03-04 22:23:07|NULL      |NULL     |NULL                  |NULL               |NULL      |NULL     |NULL               |\n",
            "|U_6126996 |C_947257 |NULL       |NULL      |NULL      |NULL         |2020-02-03 21:31:43|NULL      |NULL     |NULL                  |NULL               |NULL      |NULL     |NULL               |\n",
            "+----------+---------+-----------+----------+----------+-------------+-------------------+----------+---------+----------------------+-------------------+----------+---------+-------------------+\n",
            "only showing top 20 rows\n",
            "\n"
          ]
        }
      ]
    },
    {
      "cell_type": "code",
      "source": [
        "df_uc_uv.count()"
      ],
      "metadata": {
        "id": "SmOEKVsjiY11"
      },
      "execution_count": null,
      "outputs": []
    },
    {
      "cell_type": "code",
      "source": [
        "df_uc_uv.select([count(when(col(c).isNull(), c)).alias(c) for c in df_uc_uv.columns]).show()"
      ],
      "metadata": {
        "id": "YgdsYPUviYzn"
      },
      "execution_count": null,
      "outputs": []
    },
    {
      "cell_type": "code",
      "source": [
        "df_course = spark.read.json(BASE_DIR + '/course.json')\n",
        "df_course.show(5,truncate=True)"
      ],
      "metadata": {
        "id": "D0K2aBbaiYxO"
      },
      "execution_count": null,
      "outputs": []
    },
    {
      "cell_type": "code",
      "source": [
        "df_user_video.show(5)"
      ],
      "metadata": {
        "id": "NsxoJsREdr96"
      },
      "execution_count": null,
      "outputs": []
    },
    {
      "cell_type": "code",
      "source": [
        "df_user_video = df_user_video.join(df_video_duration, on=['video_id'], how='left')\n",
        "df_user_video.show(5)"
      ],
      "metadata": {
        "id": "xzvux2iceJ3Q"
      },
      "execution_count": null,
      "outputs": []
    },
    {
      "cell_type": "code",
      "source": [
        "df_uc_uv = df_uc_uv.join(df_video_duration, on = [\"video_id\"], how = 'left')\n",
        "df_uc_uv.show(5)"
      ],
      "metadata": {
        "id": "Jw_DFLn8eezk"
      },
      "execution_count": null,
      "outputs": []
    },
    {
      "cell_type": "code",
      "source": [
        "from pyspark.sql.functions import col, isnan, when, count\n",
        "df_uc_uv.count()\n",
        "df_uc_uv.select([count(when(col(c).isNull(), c)).alias(c) for c in df_uc_uv.columns]).show()"
      ],
      "metadata": {
        "id": "yfCuLQ4Rfz2h"
      },
      "execution_count": null,
      "outputs": []
    },
    {
      "cell_type": "code",
      "source": [
        "df_user_course.show(5)"
      ],
      "metadata": {
        "id": "luzIm55td611"
      },
      "execution_count": null,
      "outputs": []
    },
    {
      "cell_type": "code",
      "source": [
        "# df_uc_uv.write.mode('overwrite').parquet(MY_TEST_DIR)"
      ],
      "metadata": {
        "id": "0OsXTSTEJc8m"
      },
      "execution_count": null,
      "outputs": []
    },
    {
      "cell_type": "code",
      "source": [],
      "metadata": {
        "id": "VAOydvGaeBl8"
      },
      "execution_count": null,
      "outputs": []
    }
  ],
  "metadata": {
    "colab": {
      "provenance": [],
      "include_colab_link": true
    },
    "kernelspec": {
      "display_name": "Python 3",
      "name": "python3"
    },
    "language_info": {
      "name": "python"
    }
  },
  "nbformat": 4,
  "nbformat_minor": 0
}