{
  "cells": [
    {
      "cell_type": "markdown",
      "metadata": {
        "id": "view-in-github",
        "colab_type": "text"
      },
      "source": [
        "<a href=\"https://colab.research.google.com/github/Azure06072005/DS317-Data-Mining-for-Enterprise/blob/main/merge_reply_user_video.ipynb\" target=\"_parent\"><img src=\"https://colab.research.google.com/assets/colab-badge.svg\" alt=\"Open In Colab\"/></a>"
      ]
    },
    {
      "cell_type": "code",
      "execution_count": 1,
      "metadata": {
        "colab": {
          "base_uri": "https://localhost:8080/"
        },
        "id": "auB2djPDf5N-",
        "outputId": "144ea293-e569-4076-af40-810a56d22fb7"
      },
      "outputs": [
        {
          "output_type": "stream",
          "name": "stdout",
          "text": [
            "Mounted at /content/drive\n"
          ]
        }
      ],
      "source": [
        "from google.colab import drive\n",
        "drive.mount('/content/drive')"
      ]
    },
    {
      "cell_type": "markdown",
      "source": [
        "# Import necessary libraries\n"
      ],
      "metadata": {
        "id": "OgqGhknVJwxx"
      }
    },
    {
      "cell_type": "code",
      "source": [
        "import pyspark\n",
        "from pyspark.sql import SparkSession\n",
        "import warnings\n",
        "from pyspark.sql.types import *\n",
        "from pyspark.sql import functions as F\n",
        "from pyspark.sql.types import IntegerType\n",
        "import seaborn as sns\n",
        "import matplotlib.pyplot as plt\n",
        "from os import truncate\n",
        "\n",
        "warnings.filterwarnings(\"ignore\")\n",
        "\n",
        "spark = SparkSession.builder \\\n",
        "  .appName(\"reply_user_video_analysis\") \\\n",
        "  .master(\"local[*]\") \\\n",
        "  .config(\"spark.some.config.option\", \"some-value\") \\\n",
        "  .getOrCreate()"
      ],
      "metadata": {
        "id": "w9ro3LtVJ7dO"
      },
      "execution_count": 2,
      "outputs": []
    },
    {
      "cell_type": "code",
      "source": [
        "BASE_DIR = '/content/drive/MyDrive/DS317.Q11 nhóm 8/DataMOOCDS317'\n",
        "MY_TEST_DIR = '/content/drive/MyDrive/DS317.Q11 nhóm 8/Bài tập trên lớp/Bài tập phân tích Dataset/Data/test'\n",
        "df_user_course_path = '/content/drive/MyDrive/DS317.Q11 nhóm 8/DataMOOCDS317/user_course_final_ver3/user_course_v4.csv'"
      ],
      "metadata": {
        "id": "OYPuy3aFLczw"
      },
      "execution_count": 3,
      "outputs": []
    },
    {
      "cell_type": "markdown",
      "source": [
        "# User-video"
      ],
      "metadata": {
        "id": "1ueD6QUhGQt-"
      }
    },
    {
      "cell_type": "code",
      "source": [
        "df_user_video = spark.read.json(BASE_DIR + '/user-video.json')\n"
      ],
      "metadata": {
        "id": "XhsY4LjrPvoC"
      },
      "execution_count": null,
      "outputs": []
    },
    {
      "cell_type": "code",
      "source": [
        "df_user_video = spark.read.json(BASE_DIR + '/user-video.json')\n",
        "# Explode the outer array in 'seq' to get each video sequence as a row\n",
        "df_user_video = df_user_video.select(\"user_id\", explode(\"seq\").alias(\"video_sequence\"))\n",
        "\n",
        "# Select the video_id and explode the 'segment' array within each video sequence\n",
        "df_user_video = df_user_video.select(\n",
        "    \"user_id\",\n",
        "    df_user_video[\"video_sequence\"][\"video_id\"].alias(\"video_id\"),\n",
        "    explode(df_user_video[\"video_sequence\"][\"segment\"]).alias(\"segment_details\")\n",
        ")\n",
        "\n",
        "# Select the individul fields from the 'segment_details' struct\n",
        "df_user_video = df_user_video.select(\n",
        "    \"user_id\",\n",
        "    \"video_id\",\n",
        "    df_user_video[\"segment_details\"][\"start_point\"].alias(\"start_point\"),\n",
        "    df_user_video[\"segment_details\"][\"end_point\"].alias(\"end_point\"),\n",
        "    df_user_video[\"segment_details\"][\"speed\"].alias(\"speed\"),\n",
        "    df_user_video[\"segment_details\"][\"local_start_time\"].alias(\"local_start_time\")\n",
        ")\n",
        "\n",
        "df_user_video = df_user_video.withColumn(\"watched_duration\", round(col('end_point') - col('start_point')))\n",
        "df_user_video = df_user_video.select(\"user_id\", \"video_id\", \"speed\", \"watched_duration\")"
      ],
      "metadata": {
        "id": "d6P26NZzR0sF"
      },
      "execution_count": null,
      "outputs": []
    },
    {
      "cell_type": "code",
      "source": [
        "df_user_video.show()"
      ],
      "metadata": {
        "id": "PUeNoEW6Q4R_"
      },
      "execution_count": null,
      "outputs": []
    },
    {
      "cell_type": "code",
      "source": [
        "df_user_video_grouped = (\n",
        "    df_user_video\n",
        "    .groupBy(\"user_id\")\n",
        "    .agg(\n",
        "        (F.sum(F.col(\"watched_duration\") * F.col(\"speed\")) / F.sum(F.col(\"watched_duration\"))).alias(\"avg_speed\"),\n",
        "        F.sum(\"watched_duration\").alias(\"total_watched_duration\"),\n",
        "        F.collect_list(\"video_id\").alias(\"video_list\")\n",
        "    )\n",
        ")"
      ],
      "metadata": {
        "id": "9eUNZ-ywVIYt"
      },
      "execution_count": null,
      "outputs": []
    },
    {
      "cell_type": "code",
      "source": [
        "df_user_video_grouped.show()"
      ],
      "metadata": {
        "id": "zaZVb_mCYIkd"
      },
      "execution_count": null,
      "outputs": []
    },
    {
      "cell_type": "code",
      "source": [
        "df_user_course = spark.read.csv(df_user_course_path, header=True, inferSchema=True)\n",
        "df_uc_uv = df_user_course.join(df_user_video_grouped, on=['user_id'], how='left')\n",
        "df_uc_uv.show(truncate=False)"
      ],
      "metadata": {
        "id": "LeigrRpuQIBp"
      },
      "execution_count": null,
      "outputs": []
    },
    {
      "cell_type": "code",
      "source": [
        "df_uc_uv.count()"
      ],
      "metadata": {
        "id": "SmOEKVsjiY11"
      },
      "execution_count": null,
      "outputs": []
    },
    {
      "cell_type": "code",
      "source": [
        "df_uc_uv.select([count(when(col(c).isNull(), c)).alias(c) for c in df_uc_uv.columns]).show()"
      ],
      "metadata": {
        "id": "YgdsYPUviYzn"
      },
      "execution_count": null,
      "outputs": []
    },
    {
      "cell_type": "code",
      "source": [
        "df_video = spark.read.json(BASE_DIR + '/video.json')\n",
        "df_video.show(5,truncate=True)"
      ],
      "metadata": {
        "id": "j-m5yZZKaWtZ"
      },
      "execution_count": null,
      "outputs": []
    },
    {
      "cell_type": "code",
      "source": [
        "from pyspark.sql.functions import array_max\n",
        "df_video = df_video.withColumn('video_duration', array_max('end'))"
      ],
      "metadata": {
        "id": "TzjL2VC5N9om"
      },
      "execution_count": null,
      "outputs": []
    },
    {
      "cell_type": "code",
      "source": [
        "df_video_id_ccid = spark.read.text(BASE_DIR + '/video_id-ccid.txt')"
      ],
      "metadata": {
        "id": "rHQ-1W13a1zX"
      },
      "execution_count": null,
      "outputs": []
    },
    {
      "cell_type": "code",
      "source": [
        "from pyspark.sql.functions import split\n",
        "\n",
        "# Tách cột value thành 2 cột video_id và ccid\n",
        "df_video_id_ccid = df_video_id_ccid.withColumn('video_id', split(df_video_id_ccid['value'], '\\t').getItem(0)) \\\n",
        "           .withColumn('ccid', split(df_video_id_ccid['value'], '\\t').getItem(1))\n",
        "df_video_id_ccid = df_video_id_ccid.select('ccid', 'video_id')\n",
        "df_video_id_ccid.show(truncate=False)\n"
      ],
      "metadata": {
        "id": "TQ-3qlljbNve"
      },
      "execution_count": null,
      "outputs": []
    },
    {
      "cell_type": "code",
      "source": [
        "df_video = df_video.join(df_video_id_ccid, on=['ccid'], how='left')\n",
        "df_video.show(5)"
      ],
      "metadata": {
        "id": "YYkOJCeKb0UP",
        "colab": {
          "base_uri": "https://localhost:8080/"
        },
        "outputId": "803007d7-f77c-4cc8-c4e3-790a87129a1c"
      },
      "execution_count": null,
      "outputs": [
        {
          "output_type": "stream",
          "name": "stdout",
          "text": [
            "+--------------------+--------------------+--------------+--------------------+---------------------------------+--------------+--------+--------+--------+---------+\n",
            "|                ccid|                 end|          name|               start|                             text|video_duration|video_id|video_id|video_id| video_id|\n",
            "+--------------------+--------------------+--------------+--------------------+---------------------------------+--------------+--------+--------+--------+---------+\n",
            "|0004A5C6F07E369D9...|[20.83, 23.39, 26...|家禽的消化系统|[19.2, 20.84, 23....|[各位同学 大家好, 我是来自中国...|       492.315|V_448343|V_448343|V_448343| V_448343|\n",
            "|0004A5C6F07E369D9...|[20.83, 23.39, 26...|家禽的消化系统|[19.2, 20.84, 23....|[各位同学 大家好, 我是来自中国...|       492.315|V_448343|V_448343|V_448343| V_448628|\n",
            "|0004A5C6F07E369D9...|[20.83, 23.39, 26...|家禽的消化系统|[19.2, 20.84, 23....|[各位同学 大家好, 我是来自中国...|       492.315|V_448343|V_448343|V_448343| V_448757|\n",
            "|0004A5C6F07E369D9...|[20.83, 23.39, 26...|家禽的消化系统|[19.2, 20.84, 23....|[各位同学 大家好, 我是来自中国...|       492.315|V_448343|V_448343|V_448343| V_605800|\n",
            "|0004A5C6F07E369D9...|[20.83, 23.39, 26...|家禽的消化系统|[19.2, 20.84, 23....|[各位同学 大家好, 我是来自中国...|       492.315|V_448343|V_448343|V_448343|V_1326113|\n",
            "+--------------------+--------------------+--------------+--------------------+---------------------------------+--------------+--------+--------+--------+---------+\n",
            "only showing top 5 rows\n",
            "\n"
          ]
        }
      ]
    },
    {
      "cell_type": "code",
      "source": [
        "df_video = df_video.select(\"video_duration\", \"video_id\")"
      ],
      "metadata": {
        "id": "d8YRJCBdcO7E",
        "outputId": "45595a8f-2df2-494e-be49-dc2665042263",
        "colab": {
          "base_uri": "https://localhost:8080/",
          "height": 287
        }
      },
      "execution_count": null,
      "outputs": [
        {
          "output_type": "error",
          "ename": "AnalysisException",
          "evalue": "[AMBIGUOUS_REFERENCE] Reference `video_id` is ambiguous, could be: [`video_id`, `video_id`, `video_id`].",
          "traceback": [
            "\u001b[0;31m---------------------------------------------------------------------------\u001b[0m",
            "\u001b[0;31mAnalysisException\u001b[0m                         Traceback (most recent call last)",
            "\u001b[0;32m/tmp/ipython-input-248324311.py\u001b[0m in \u001b[0;36m<cell line: 0>\u001b[0;34m()\u001b[0m\n\u001b[0;32m----> 1\u001b[0;31m \u001b[0mdf_video\u001b[0m \u001b[0;34m=\u001b[0m \u001b[0mdf_video\u001b[0m\u001b[0;34m.\u001b[0m\u001b[0mselect\u001b[0m\u001b[0;34m(\u001b[0m\u001b[0;34m\"video_duration\"\u001b[0m\u001b[0;34m,\u001b[0m \u001b[0;34m\"video_id\"\u001b[0m\u001b[0;34m)\u001b[0m\u001b[0;34m\u001b[0m\u001b[0;34m\u001b[0m\u001b[0m\n\u001b[0m",
            "\u001b[0;32m/usr/local/lib/python3.12/dist-packages/pyspark/sql/dataframe.py\u001b[0m in \u001b[0;36mselect\u001b[0;34m(self, *cols)\u001b[0m\n\u001b[1;32m   3225\u001b[0m         \u001b[0;34m+\u001b[0m\u001b[0;34m-\u001b[0m\u001b[0;34m-\u001b[0m\u001b[0;34m-\u001b[0m\u001b[0;34m-\u001b[0m\u001b[0;34m-\u001b[0m\u001b[0;34m+\u001b[0m\u001b[0;34m-\u001b[0m\u001b[0;34m-\u001b[0m\u001b[0;34m-\u001b[0m\u001b[0;34m+\u001b[0m\u001b[0;34m\u001b[0m\u001b[0;34m\u001b[0m\u001b[0m\n\u001b[1;32m   3226\u001b[0m         \"\"\"\n\u001b[0;32m-> 3227\u001b[0;31m         \u001b[0mjdf\u001b[0m \u001b[0;34m=\u001b[0m \u001b[0mself\u001b[0m\u001b[0;34m.\u001b[0m\u001b[0m_jdf\u001b[0m\u001b[0;34m.\u001b[0m\u001b[0mselect\u001b[0m\u001b[0;34m(\u001b[0m\u001b[0mself\u001b[0m\u001b[0;34m.\u001b[0m\u001b[0m_jcols\u001b[0m\u001b[0;34m(\u001b[0m\u001b[0;34m*\u001b[0m\u001b[0mcols\u001b[0m\u001b[0;34m)\u001b[0m\u001b[0;34m)\u001b[0m\u001b[0;34m\u001b[0m\u001b[0;34m\u001b[0m\u001b[0m\n\u001b[0m\u001b[1;32m   3228\u001b[0m         \u001b[0;32mreturn\u001b[0m \u001b[0mDataFrame\u001b[0m\u001b[0;34m(\u001b[0m\u001b[0mjdf\u001b[0m\u001b[0;34m,\u001b[0m \u001b[0mself\u001b[0m\u001b[0;34m.\u001b[0m\u001b[0msparkSession\u001b[0m\u001b[0;34m)\u001b[0m\u001b[0;34m\u001b[0m\u001b[0;34m\u001b[0m\u001b[0m\n\u001b[1;32m   3229\u001b[0m \u001b[0;34m\u001b[0m\u001b[0m\n",
            "\u001b[0;32m/usr/local/lib/python3.12/dist-packages/py4j/java_gateway.py\u001b[0m in \u001b[0;36m__call__\u001b[0;34m(self, *args)\u001b[0m\n\u001b[1;32m   1320\u001b[0m \u001b[0;34m\u001b[0m\u001b[0m\n\u001b[1;32m   1321\u001b[0m         \u001b[0manswer\u001b[0m \u001b[0;34m=\u001b[0m \u001b[0mself\u001b[0m\u001b[0;34m.\u001b[0m\u001b[0mgateway_client\u001b[0m\u001b[0;34m.\u001b[0m\u001b[0msend_command\u001b[0m\u001b[0;34m(\u001b[0m\u001b[0mcommand\u001b[0m\u001b[0;34m)\u001b[0m\u001b[0;34m\u001b[0m\u001b[0;34m\u001b[0m\u001b[0m\n\u001b[0;32m-> 1322\u001b[0;31m         return_value = get_return_value(\n\u001b[0m\u001b[1;32m   1323\u001b[0m             answer, self.gateway_client, self.target_id, self.name)\n\u001b[1;32m   1324\u001b[0m \u001b[0;34m\u001b[0m\u001b[0m\n",
            "\u001b[0;32m/usr/local/lib/python3.12/dist-packages/pyspark/errors/exceptions/captured.py\u001b[0m in \u001b[0;36mdeco\u001b[0;34m(*a, **kw)\u001b[0m\n\u001b[1;32m    183\u001b[0m                 \u001b[0;31m# Hide where the exception came from that shows a non-Pythonic\u001b[0m\u001b[0;34m\u001b[0m\u001b[0;34m\u001b[0m\u001b[0m\n\u001b[1;32m    184\u001b[0m                 \u001b[0;31m# JVM exception message.\u001b[0m\u001b[0;34m\u001b[0m\u001b[0;34m\u001b[0m\u001b[0m\n\u001b[0;32m--> 185\u001b[0;31m                 \u001b[0;32mraise\u001b[0m \u001b[0mconverted\u001b[0m \u001b[0;32mfrom\u001b[0m \u001b[0;32mNone\u001b[0m\u001b[0;34m\u001b[0m\u001b[0;34m\u001b[0m\u001b[0m\n\u001b[0m\u001b[1;32m    186\u001b[0m             \u001b[0;32melse\u001b[0m\u001b[0;34m:\u001b[0m\u001b[0;34m\u001b[0m\u001b[0;34m\u001b[0m\u001b[0m\n\u001b[1;32m    187\u001b[0m                 \u001b[0;32mraise\u001b[0m\u001b[0;34m\u001b[0m\u001b[0;34m\u001b[0m\u001b[0m\n",
            "\u001b[0;31mAnalysisException\u001b[0m: [AMBIGUOUS_REFERENCE] Reference `video_id` is ambiguous, could be: [`video_id`, `video_id`, `video_id`]."
          ]
        }
      ]
    },
    {
      "cell_type": "code",
      "source": [
        "df_course = spark.read.json(BASE_DIR + '/course.json')\n",
        "df_course.show(5,truncate=True)"
      ],
      "metadata": {
        "id": "D0K2aBbaiYxO"
      },
      "execution_count": null,
      "outputs": []
    },
    {
      "cell_type": "code",
      "source": [
        "df_video.printSchema()"
      ],
      "metadata": {
        "id": "KnksmdkrlLQM"
      },
      "execution_count": null,
      "outputs": []
    },
    {
      "cell_type": "code",
      "source": [
        "df_video.show(5)"
      ],
      "metadata": {
        "id": "Z4e7Ws8gdQne"
      },
      "execution_count": null,
      "outputs": []
    },
    {
      "cell_type": "code",
      "source": [
        "df_video_duration = df_video.select('video_id', 'duration')\n",
        "df_video_duration.show(5)"
      ],
      "metadata": {
        "id": "N4F62qzydV6M"
      },
      "execution_count": null,
      "outputs": []
    },
    {
      "cell_type": "code",
      "source": [
        "df_user_video.show(5)"
      ],
      "metadata": {
        "id": "NsxoJsREdr96"
      },
      "execution_count": null,
      "outputs": []
    },
    {
      "cell_type": "code",
      "source": [
        "df_user_video = df_user_video.join(df_video_duration, on=['video_id'], how='left')\n",
        "df_user_video.show(5)"
      ],
      "metadata": {
        "id": "xzvux2iceJ3Q"
      },
      "execution_count": null,
      "outputs": []
    },
    {
      "cell_type": "code",
      "source": [
        "df_uc_uv = df_uc_uv.join(df_video_duration, on = [\"video_id\"], how = 'left')\n",
        "df_uc_uv.show(5)"
      ],
      "metadata": {
        "id": "Jw_DFLn8eezk"
      },
      "execution_count": null,
      "outputs": []
    },
    {
      "cell_type": "code",
      "source": [
        "from pyspark.sql.functions import col, isnan, when, count\n",
        "df_uc_uv.count()\n",
        "df_uc_uv.select([count(when(col(c).isNull(), c)).alias(c) for c in df_uc_uv.columns]).show()"
      ],
      "metadata": {
        "id": "yfCuLQ4Rfz2h"
      },
      "execution_count": null,
      "outputs": []
    },
    {
      "cell_type": "code",
      "source": [
        "df_user_course.show(5)"
      ],
      "metadata": {
        "id": "luzIm55td611"
      },
      "execution_count": null,
      "outputs": []
    },
    {
      "cell_type": "code",
      "source": [
        "# df_uc_uv.write.mode('overwrite').parquet(MY_TEST_DIR)"
      ],
      "metadata": {
        "id": "0OsXTSTEJc8m"
      },
      "execution_count": null,
      "outputs": []
    },
    {
      "cell_type": "code",
      "source": [],
      "metadata": {
        "id": "VAOydvGaeBl8"
      },
      "execution_count": null,
      "outputs": []
    }
  ],
  "metadata": {
    "colab": {
      "provenance": [],
      "include_colab_link": true
    },
    "kernelspec": {
      "display_name": "Python 3",
      "name": "python3"
    },
    "language_info": {
      "name": "python"
    }
  },
  "nbformat": 4,
  "nbformat_minor": 0
}