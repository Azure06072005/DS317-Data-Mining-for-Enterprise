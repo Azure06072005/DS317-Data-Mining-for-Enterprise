{
  "cells": [
    {
      "cell_type": "markdown",
      "metadata": {
        "id": "view-in-github",
        "colab_type": "text"
      },
      "source": [
        "<a href=\"https://colab.research.google.com/github/Azure06072005/DS317-Data-Mining-for-Enterprise/blob/main/merge_reply_user_video.ipynb\" target=\"_parent\"><img src=\"https://colab.research.google.com/assets/colab-badge.svg\" alt=\"Open In Colab\"/></a>"
      ]
    },
    {
      "cell_type": "code",
      "execution_count": 2,
      "metadata": {
        "colab": {
          "base_uri": "https://localhost:8080/"
        },
        "id": "auB2djPDf5N-",
        "outputId": "5469e30c-503d-4dcc-f336-dc8979cf79eb"
      },
      "outputs": [
        {
          "output_type": "stream",
          "name": "stdout",
          "text": [
            "Mounted at /content/drive\n"
          ]
        }
      ],
      "source": [
        "from google.colab import drive\n",
        "drive.mount('/content/drive')"
      ]
    },
    {
      "cell_type": "markdown",
      "source": [
        "# Import necessary libraries\n"
      ],
      "metadata": {
        "id": "OgqGhknVJwxx"
      }
    },
    {
      "cell_type": "code",
      "source": [
        "import pyspark\n",
        "from pyspark.sql import SparkSession\n",
        "import warnings\n",
        "from pyspark.sql.types import *\n",
        "from pyspark.sql import functions as F\n",
        "from pyspark.sql.types import IntegerType\n",
        "import seaborn as sns\n",
        "import matplotlib.pyplot as plt\n",
        "from os import truncate\n",
        "\n",
        "warnings.filterwarnings(\"ignore\")\n",
        "\n",
        "spark = SparkSession.builder \\\n",
        "  .appName(\"reply_user_video_analysis\") \\\n",
        "  .master(\"local[*]\") \\\n",
        "  .config(\"spark.some.config.option\", \"some-value\") \\\n",
        "  .getOrCreate()"
      ],
      "metadata": {
        "id": "w9ro3LtVJ7dO"
      },
      "execution_count": 15,
      "outputs": []
    },
    {
      "cell_type": "code",
      "source": [
        "BASE_DIR = '/content/drive/MyDrive/DS317.Q11 nhóm 8/DataMOOCDS317'\n",
        "MY_TEST_DIR = '/content/drive/MyDrive/DS317.Q11 nhóm 8/Bài tập trên lớp/Bài tập phân tích Dataset/Data/test'\n",
        "df_user_course_path = '/content/drive/MyDrive/DS317.Q11 nhóm 8/DataMOOCDS317/user_course_final_ver3/user_course_v4.csv'"
      ],
      "metadata": {
        "id": "OYPuy3aFLczw"
      },
      "execution_count": 5,
      "outputs": []
    },
    {
      "cell_type": "markdown",
      "source": [
        "# User-video"
      ],
      "metadata": {
        "id": "1ueD6QUhGQt-"
      }
    },
    {
      "cell_type": "code",
      "source": [
        "df_user_video = spark.read.json(BASE_DIR + '/user-video.json')\n"
      ],
      "metadata": {
        "id": "XhsY4LjrPvoC"
      },
      "execution_count": 6,
      "outputs": []
    },
    {
      "cell_type": "code",
      "source": [
        "df_user_video = spark.read.json(BASE_DIR + '/user-video.json')\n",
        "# Explode the outer array in 'seq' to get each video sequence as a row\n",
        "df_user_video = df_user_video.select(\"user_id\", explode(\"seq\").alias(\"video_sequence\"))\n",
        "\n",
        "# Select the video_id and explode the 'segment' array within each video sequence\n",
        "df_user_video = df_user_video.select(\n",
        "    \"user_id\",\n",
        "    df_user_video[\"video_sequence\"][\"video_id\"].alias(\"video_id\"),\n",
        "    explode(df_user_video[\"video_sequence\"][\"segment\"]).alias(\"segment_details\")\n",
        ")\n",
        "\n",
        "# Select the individul fields from the 'segment_details' struct\n",
        "df_user_video = df_user_video.select(\n",
        "    \"user_id\",\n",
        "    \"video_id\",\n",
        "    df_user_video[\"segment_details\"][\"start_point\"].alias(\"start_point\"),\n",
        "    df_user_video[\"segment_details\"][\"end_point\"].alias(\"end_point\"),\n",
        "    df_user_video[\"segment_details\"][\"speed\"].alias(\"speed\"),\n",
        "    df_user_video[\"segment_details\"][\"local_start_time\"].alias(\"local_start_time\")\n",
        ")\n",
        "\n",
        "df_user_video = df_user_video.withColumn(\"watched_duration\", round(col('end_point') - col('start_point')))\n",
        "df_user_video = df_user_video.select(\"user_id\", \"video_id\", \"speed\", \"watched_duration\")"
      ],
      "metadata": {
        "id": "d6P26NZzR0sF"
      },
      "execution_count": 13,
      "outputs": []
    },
    {
      "cell_type": "code",
      "source": [
        "df_user_video.show()"
      ],
      "metadata": {
        "colab": {
          "base_uri": "https://localhost:8080/"
        },
        "id": "PUeNoEW6Q4R_",
        "outputId": "4582769c-6cfb-4453-f8c3-3bd74614cb76"
      },
      "execution_count": 14,
      "outputs": [
        {
          "output_type": "stream",
          "name": "stdout",
          "text": [
            "+-------+---------+-----+----------------+\n",
            "|user_id| video_id|speed|watched_duration|\n",
            "+-------+---------+-----+----------------+\n",
            "|  U_112|V_1395633|  1.0|            60.0|\n",
            "|  U_112|V_1395633|  1.0|            30.0|\n",
            "|  U_112|V_1395633|  1.0|            30.0|\n",
            "|  U_112|V_1395633| 1.25|            37.0|\n",
            "|  U_112|V_1395635|  1.0|            35.0|\n",
            "|  U_112|V_1395636|  1.5|            53.0|\n",
            "|  U_112|V_1395639| 1.25|             6.0|\n",
            "|  U_112|V_1395639| 1.25|             6.0|\n",
            "|  U_112|V_6210799| 1.25|            13.0|\n",
            "|  U_112|V_6210799| 1.25|           244.0|\n",
            "|  U_112|V_6210799|  1.5|            53.0|\n",
            "|  U_112|V_6210799|  1.5|            10.0|\n",
            "|  U_112|V_6210800|  1.5|             8.0|\n",
            "|  U_150|V_6224262|  2.0|           220.0|\n",
            "|  U_172|V_6432959|  1.0|             5.0|\n",
            "|  U_189|V_6334508|  1.0|           105.0|\n",
            "|  U_189|V_6334508|  1.0|           135.0|\n",
            "|  U_189|V_6334516|  1.0|             5.0|\n",
            "|  U_189|V_6334519|  1.0|           840.0|\n",
            "|  U_189|V_6334017|  1.0|           317.0|\n",
            "+-------+---------+-----+----------------+\n",
            "only showing top 20 rows\n",
            "\n"
          ]
        }
      ]
    },
    {
      "cell_type": "code",
      "source": [
        "df_user_video_grouped = (\n",
        "    df_user_video\n",
        "    .groupBy(\"user_id\")\n",
        "    .agg(\n",
        "        (F.sum(F.col(\"watched_duration\") * F.col(\"speed\")) / F.sum(F.col(\"watched_duration\"))).alias(\"avg_speed\"),\n",
        "        F.sum(\"watched_duration\").alias(\"total_watched_duration\"),\n",
        "        F.collect_list(\"video_id\").alias(\"video_list\")\n",
        "    )\n",
        ")"
      ],
      "metadata": {
        "id": "9eUNZ-ywVIYt"
      },
      "execution_count": 17,
      "outputs": []
    },
    {
      "cell_type": "code",
      "source": [
        "df_user_video_grouped.show()"
      ],
      "metadata": {
        "colab": {
          "base_uri": "https://localhost:8080/"
        },
        "id": "zaZVb_mCYIkd",
        "outputId": "f1537613-8352-46c9-d633-6685d3be6e1f"
      },
      "execution_count": 18,
      "outputs": [
        {
          "output_type": "stream",
          "name": "stdout",
          "text": [
            "+----------+------------------+----------------------+--------------------+\n",
            "|   user_id|         avg_speed|total_watched_duration|          video_list|\n",
            "+----------+------------------+----------------------+--------------------+\n",
            "|U_10001181|               2.0|                2878.0|[V_7386535, V_738...|\n",
            "|U_10001587|1.9301075268817205|                8184.0|[V_6043067, V_604...|\n",
            "| U_1000290|               1.0|                2311.0|[V_6280707, V_628...|\n",
            "| U_1000454|               1.0|                 495.0|[V_6181150, V_739...|\n",
            "|  U_100066|               1.0|                  20.0|         [V_6335195]|\n",
            "|U_10008027|1.2237261146496816|                6280.0|[V_6043035, V_604...|\n",
            "|U_10011100|               1.0|               32566.0|[V_6043065, V_604...|\n",
            "|U_10012258|               2.0|               19257.0|[V_7386534, V_738...|\n",
            "| U_1001314|               1.0|                  20.0|         [V_6340765]|\n",
            "|U_10013620|               2.0|                3200.0|[V_7386534, V_738...|\n",
            "|U_10016535|               1.0|                5035.0|[V_7386534, V_738...|\n",
            "|U_10017170|               1.0|                5518.0|[V_7386531, V_738...|\n",
            "|U_10017195|               1.0|                3420.0|[V_7386533, V_738...|\n",
            "|U_10018040|               1.0|                1234.0|[V_7386532, V_738...|\n",
            "|U_10018490|1.7922105043332985|                9577.0|[V_7386531, V_738...|\n",
            "| U_1001999|1.3169934640522876|                 306.0|[V_6354955, V_635...|\n",
            "|U_10021046|1.5813748531139835|                3404.0|[V_7386531, V_738...|\n",
            "| U_1002253|               1.0|                 168.0|         [V_6293187]|\n",
            "| U_1002476|               1.0|                 803.0|[V_1353266, V_625...|\n",
            "|U_10026106|1.8529411764705883|                5712.0|[V_7386531, V_738...|\n",
            "+----------+------------------+----------------------+--------------------+\n",
            "only showing top 20 rows\n",
            "\n"
          ]
        }
      ]
    },
    {
      "cell_type": "code",
      "source": [
        "df_user_course = spark.read.csv(df_user_course_path, header=True, inferSchema=True)\n",
        "df_uc_uv = df_user_course.join(df_user_video_grouped, on=['user_id'], how='left')\n",
        "df_uc_uv.show(truncate=False)"
      ],
      "metadata": {
        "colab": {
          "base_uri": "https://localhost:8080/"
        },
        "id": "LeigrRpuQIBp",
        "outputId": "64b04a95-d48c-4bb7-ff8c-4f5101447a34"
      },
      "execution_count": 19,
      "outputs": [
        {
          "output_type": "stream",
          "name": "stdout",
          "text": [
            "+----------+---------+-----------+----------+----------+-------------+-------------------+----------+---------+----------------------+----------+\n",
            "|user_id   |course_id|certificate|start_date|end_date  |duration_days|enroll_time        |remain_day|avg_speed|total_watched_duration|video_list|\n",
            "+----------+---------+-----------+----------+----------+-------------+-------------------+----------+---------+----------------------+----------+\n",
            "|U_1000663 |C_2328510|0.0        |2020-11-18|2021-02-28|102.0        |2020-11-27 22:41:36|93.0      |NULL     |NULL                  |NULL      |\n",
            "|U_1000868 |C_947149 |1.0        |2019-12-30|2020-04-19|111.0        |2020-03-02 15:38:45|48.0      |NULL     |NULL                  |NULL      |\n",
            "|U_1000883 |C_947149 |1.0        |2019-12-30|2020-04-19|111.0        |2020-03-04 08:54:01|46.0      |NULL     |NULL                  |NULL      |\n",
            "|U_1000902 |C_696724 |1.0        |2019-11-18|2020-02-29|103.0        |2019-12-29 20:40:49|62.0      |NULL     |NULL                  |NULL      |\n",
            "|U_1000902 |C_947149 |1.0        |2020-04-20|2020-07-31|102.0        |2020-04-21 12:10:47|101.0     |NULL     |NULL                  |NULL      |\n",
            "|U_1000902 |C_676937 |0.0        |2020-09-01|2020-12-31|121.0        |2020-10-14 16:46:34|78.0      |NULL     |NULL                  |NULL      |\n",
            "|U_30690111|C_1875509|1.0        |2020-06-24|2020-08-31|68.0         |2020-06-26 15:24:00|66.0      |NULL     |NULL                  |NULL      |\n",
            "|U_30690119|C_697828 |0.0        |2020-02-14|2020-07-31|168.0        |2020-06-26 15:23:52|35.0      |NULL     |NULL                  |NULL      |\n",
            "|U_30690130|C_1822804|1.0        |2020-06-05|2020-08-10|66.0         |2020-06-26 17:29:30|45.0      |NULL     |NULL                  |NULL      |\n",
            "|U_30690137|C_1822804|1.0        |2020-06-05|2020-08-10|66.0         |2020-06-26 15:40:04|45.0      |NULL     |NULL                  |NULL      |\n",
            "|U_30690151|C_948241 |1.0        |2020-04-13|2020-07-31|109.0        |2020-06-26 15:41:18|35.0      |NULL     |NULL                  |NULL      |\n",
            "|U_30690163|C_1864067|1.0        |2020-06-18|2020-08-31|74.0         |2020-06-26 15:31:20|66.0      |NULL     |NULL                  |NULL      |\n",
            "|U_30690165|C_758928 |1.0        |2020-02-24|2020-07-31|158.0        |2020-06-26 15:31:32|35.0      |NULL     |NULL                  |NULL      |\n",
            "|U_30690165|C_697828 |0.0        |2020-09-01|2020-12-31|121.0        |2020-09-16 20:27:22|106.0     |NULL     |NULL                  |NULL      |\n",
            "|U_30690167|C_1822804|1.0        |2020-06-05|2020-08-10|66.0         |2020-06-26 15:33:30|45.0      |NULL     |NULL                  |NULL      |\n",
            "|U_30690191|C_1822804|1.0        |2020-06-05|2020-08-10|66.0         |2020-06-26 15:35:57|45.0      |NULL     |NULL                  |NULL      |\n",
            "|U_6126846 |C_696994 |NULL       |NULL      |NULL      |NULL         |2020-03-04 22:23:07|NULL      |NULL     |NULL                  |NULL      |\n",
            "|U_6126996 |C_947257 |NULL       |NULL      |NULL      |NULL         |2020-02-03 21:31:43|NULL      |NULL     |NULL                  |NULL      |\n",
            "|U_612918  |C_697289 |NULL       |NULL      |NULL      |NULL         |2019-11-26 15:56:35|NULL      |NULL     |NULL                  |NULL      |\n",
            "|U_6129420 |C_696911 |NULL       |NULL      |NULL      |NULL         |2020-02-15 11:43:34|NULL      |NULL     |NULL                  |NULL      |\n",
            "+----------+---------+-----------+----------+----------+-------------+-------------------+----------+---------+----------------------+----------+\n",
            "only showing top 20 rows\n",
            "\n"
          ]
        }
      ]
    },
    {
      "cell_type": "code",
      "source": [
        "df_uc_uv.count()"
      ],
      "metadata": {
        "id": "SmOEKVsjiY11",
        "colab": {
          "base_uri": "https://localhost:8080/"
        },
        "outputId": "6e1876a1-4766-4be8-c00c-60038e0b97e2"
      },
      "execution_count": 20,
      "outputs": [
        {
          "output_type": "execute_result",
          "data": {
            "text/plain": [
              "7008317"
            ]
          },
          "metadata": {},
          "execution_count": 20
        }
      ]
    },
    {
      "cell_type": "code",
      "source": [
        "df_uc_uv.select([count(when(col(c).isNull(), c)).alias(c) for c in df_uc_uv.columns]).show()"
      ],
      "metadata": {
        "id": "YgdsYPUviYzn",
        "colab": {
          "base_uri": "https://localhost:8080/"
        },
        "outputId": "7b1c5fd2-20fd-4689-ce5a-0f881097f54b"
      },
      "execution_count": 21,
      "outputs": [
        {
          "output_type": "stream",
          "name": "stdout",
          "text": [
            "+-------+---------+-----------+----------+--------+-------------+-----------+----------+---------+----------------------+----------+\n",
            "|user_id|course_id|certificate|start_date|end_date|duration_days|enroll_time|remain_day|avg_speed|total_watched_duration|video_list|\n",
            "+-------+---------+-----------+----------+--------+-------------+-----------+----------+---------+----------------------+----------+\n",
            "|      0|        0|    4939141|   4939141| 4939141|      4939141|          0|   4939141|  6224092|               6223990|   6223990|\n",
            "+-------+---------+-----------+----------+--------+-------------+-----------+----------+---------+----------------------+----------+\n",
            "\n"
          ]
        }
      ]
    },
    {
      "cell_type": "code",
      "source": [
        "df_video = spark.read.json(BASE_DIR + '/video.json')\n",
        "df_video.show(5,truncate=True)"
      ],
      "metadata": {
        "id": "j-m5yZZKaWtZ",
        "colab": {
          "base_uri": "https://localhost:8080/"
        },
        "outputId": "1c3f3f10-9c4d-4933-da53-a0b14a83c676"
      },
      "execution_count": 22,
      "outputs": [
        {
          "output_type": "stream",
          "name": "stdout",
          "text": [
            "+--------------------+--------------------+------------------+--------------------+------------------------------------+\n",
            "|                ccid|                 end|              name|               start|                                text|\n",
            "+--------------------+--------------------+------------------+--------------------+------------------------------------+\n",
            "|0001603F826A3DDA9...|[4.255, 8.119, 10...|             Video|[1.031, 7.095, 8....|[第二个就是短助记符在生成上面。有...|\n",
            "|0003DB14A14A53279...|[12.581, 17.38, 1...|             Video|[11.799, 12.581, ...|  [大家好, 今天我们讨论一维系统辐...|\n",
            "|0004A5C6F07E369D9...|[20.83, 23.39, 26...|    家禽的消化系统|[19.2, 20.84, 23....|   [各位同学 大家好, 我是来自中国...|\n",
            "|00059EBD1371A6959...|[23.14, 194.458, ...|1.2 计算机硬件系统|[19.372, 190.522,...| [大家好 本视频介绍计算机硬件系统...|\n",
            "|0005D1DC01B4EF8F9...|[25.08, 26.775, 2...|  什么是供应链网络|[24.33, 25.081, 2...|   [大家好, 今天我们学习的知识点,...|\n",
            "+--------------------+--------------------+------------------+--------------------+------------------------------------+\n",
            "only showing top 5 rows\n",
            "\n"
          ]
        }
      ]
    },
    {
      "cell_type": "code",
      "source": [
        "from pyspark.sql.functions import array_max\n",
        "df_video = df_video.withColumn('video_duration', array_max('end'))"
      ],
      "metadata": {
        "id": "TzjL2VC5N9om"
      },
      "execution_count": 23,
      "outputs": []
    },
    {
      "cell_type": "code",
      "source": [
        "df_video_id_ccid = spark.read.text(BASE_DIR + '/video_id-ccid.txt')"
      ],
      "metadata": {
        "id": "rHQ-1W13a1zX"
      },
      "execution_count": 42,
      "outputs": []
    },
    {
      "cell_type": "code",
      "source": [
        "from pyspark.sql.functions import split\n",
        "\n",
        "# Tách cột value thành 2 cột video_id và ccid\n",
        "df_video_id_ccid = df_video_id_ccid.withColumn('video_id', split(df_video_id_ccid['value'], '\\t').getItem(0)) \\\n",
        "           .withColumn('ccid', split(df_video_id_ccid['value'], '\\t').getItem(1))\n",
        "df_video_id_ccid = df_video_id_ccid.select('ccid', 'video_id')\n",
        "df_video_id_ccid.show(truncate=False)\n"
      ],
      "metadata": {
        "id": "TQ-3qlljbNve",
        "colab": {
          "base_uri": "https://localhost:8080/"
        },
        "outputId": "bcfbe235-a1fc-4620-8d9e-3c5d04fac19a"
      },
      "execution_count": 43,
      "outputs": [
        {
          "output_type": "stream",
          "name": "stdout",
          "text": [
            "+--------------------------------+---------+\n",
            "|ccid                            |video_id |\n",
            "+--------------------------------+---------+\n",
            "|0000363DB5B6E0869C33DC5901307461|V_234845 |\n",
            "|0000363DB5B6E0869C33DC5901307461|V_234876 |\n",
            "|0000363DB5B6E0869C33DC5901307461|V_234907 |\n",
            "|0000363DB5B6E0869C33DC5901307461|V_293392 |\n",
            "|0000363DB5B6E0869C33DC5901307461|V_293445 |\n",
            "|0000363DB5B6E0869C33DC5901307461|V_293494 |\n",
            "|0000363DB5B6E0869C33DC5901307461|V_627142 |\n",
            "|0000363DB5B6E0869C33DC5901307461|V_944346 |\n",
            "|0000363DB5B6E0869C33DC5901307461|V_944377 |\n",
            "|0000363DB5B6E0869C33DC5901307461|V_944408 |\n",
            "|0000363DB5B6E0869C33DC5901307461|V_1386166|\n",
            "|0000363DB5B6E0869C33DC5901307461|V_1479635|\n",
            "|0000363DB5B6E0869C33DC5901307461|V_1494506|\n",
            "|0000363DB5B6E0869C33DC5901307461|V_1494536|\n",
            "|0000363DB5B6E0869C33DC5901307461|V_1494566|\n",
            "|0000363DB5B6E0869C33DC5901307461|V_1494614|\n",
            "|0000363DB5B6E0869C33DC5901307461|V_1494625|\n",
            "|0000363DB5B6E0869C33DC5901307461|V_1494656|\n",
            "|0000363DB5B6E0869C33DC5901307461|V_1570352|\n",
            "|0000363DB5B6E0869C33DC5901307461|V_2070578|\n",
            "+--------------------------------+---------+\n",
            "only showing top 20 rows\n",
            "\n"
          ]
        }
      ]
    },
    {
      "cell_type": "code",
      "source": [
        "df_video = df_video.join(df_video_id_ccid, on=['ccid'], how='left')\n",
        "df_video.show(5)"
      ],
      "metadata": {
        "id": "YYkOJCeKb0UP",
        "colab": {
          "base_uri": "https://localhost:8080/"
        },
        "outputId": "803007d7-f77c-4cc8-c4e3-790a87129a1c"
      },
      "execution_count": 44,
      "outputs": [
        {
          "output_type": "stream",
          "name": "stdout",
          "text": [
            "+--------------------+--------------------+--------------+--------------------+---------------------------------+--------------+--------+--------+--------+---------+\n",
            "|                ccid|                 end|          name|               start|                             text|video_duration|video_id|video_id|video_id| video_id|\n",
            "+--------------------+--------------------+--------------+--------------------+---------------------------------+--------------+--------+--------+--------+---------+\n",
            "|0004A5C6F07E369D9...|[20.83, 23.39, 26...|家禽的消化系统|[19.2, 20.84, 23....|[各位同学 大家好, 我是来自中国...|       492.315|V_448343|V_448343|V_448343| V_448343|\n",
            "|0004A5C6F07E369D9...|[20.83, 23.39, 26...|家禽的消化系统|[19.2, 20.84, 23....|[各位同学 大家好, 我是来自中国...|       492.315|V_448343|V_448343|V_448343| V_448628|\n",
            "|0004A5C6F07E369D9...|[20.83, 23.39, 26...|家禽的消化系统|[19.2, 20.84, 23....|[各位同学 大家好, 我是来自中国...|       492.315|V_448343|V_448343|V_448343| V_448757|\n",
            "|0004A5C6F07E369D9...|[20.83, 23.39, 26...|家禽的消化系统|[19.2, 20.84, 23....|[各位同学 大家好, 我是来自中国...|       492.315|V_448343|V_448343|V_448343| V_605800|\n",
            "|0004A5C6F07E369D9...|[20.83, 23.39, 26...|家禽的消化系统|[19.2, 20.84, 23....|[各位同学 大家好, 我是来自中国...|       492.315|V_448343|V_448343|V_448343|V_1326113|\n",
            "+--------------------+--------------------+--------------+--------------------+---------------------------------+--------------+--------+--------+--------+---------+\n",
            "only showing top 5 rows\n",
            "\n"
          ]
        }
      ]
    },
    {
      "cell_type": "code",
      "source": [
        "df_video = df_video.select(\"video_duration\", \"video_id\")"
      ],
      "metadata": {
        "id": "d8YRJCBdcO7E",
        "outputId": "45595a8f-2df2-494e-be49-dc2665042263",
        "colab": {
          "base_uri": "https://localhost:8080/",
          "height": 287
        }
      },
      "execution_count": 40,
      "outputs": [
        {
          "output_type": "error",
          "ename": "AnalysisException",
          "evalue": "[AMBIGUOUS_REFERENCE] Reference `video_id` is ambiguous, could be: [`video_id`, `video_id`, `video_id`].",
          "traceback": [
            "\u001b[0;31m---------------------------------------------------------------------------\u001b[0m",
            "\u001b[0;31mAnalysisException\u001b[0m                         Traceback (most recent call last)",
            "\u001b[0;32m/tmp/ipython-input-248324311.py\u001b[0m in \u001b[0;36m<cell line: 0>\u001b[0;34m()\u001b[0m\n\u001b[0;32m----> 1\u001b[0;31m \u001b[0mdf_video\u001b[0m \u001b[0;34m=\u001b[0m \u001b[0mdf_video\u001b[0m\u001b[0;34m.\u001b[0m\u001b[0mselect\u001b[0m\u001b[0;34m(\u001b[0m\u001b[0;34m\"video_duration\"\u001b[0m\u001b[0;34m,\u001b[0m \u001b[0;34m\"video_id\"\u001b[0m\u001b[0;34m)\u001b[0m\u001b[0;34m\u001b[0m\u001b[0;34m\u001b[0m\u001b[0m\n\u001b[0m",
            "\u001b[0;32m/usr/local/lib/python3.12/dist-packages/pyspark/sql/dataframe.py\u001b[0m in \u001b[0;36mselect\u001b[0;34m(self, *cols)\u001b[0m\n\u001b[1;32m   3225\u001b[0m         \u001b[0;34m+\u001b[0m\u001b[0;34m-\u001b[0m\u001b[0;34m-\u001b[0m\u001b[0;34m-\u001b[0m\u001b[0;34m-\u001b[0m\u001b[0;34m-\u001b[0m\u001b[0;34m+\u001b[0m\u001b[0;34m-\u001b[0m\u001b[0;34m-\u001b[0m\u001b[0;34m-\u001b[0m\u001b[0;34m+\u001b[0m\u001b[0;34m\u001b[0m\u001b[0;34m\u001b[0m\u001b[0m\n\u001b[1;32m   3226\u001b[0m         \"\"\"\n\u001b[0;32m-> 3227\u001b[0;31m         \u001b[0mjdf\u001b[0m \u001b[0;34m=\u001b[0m \u001b[0mself\u001b[0m\u001b[0;34m.\u001b[0m\u001b[0m_jdf\u001b[0m\u001b[0;34m.\u001b[0m\u001b[0mselect\u001b[0m\u001b[0;34m(\u001b[0m\u001b[0mself\u001b[0m\u001b[0;34m.\u001b[0m\u001b[0m_jcols\u001b[0m\u001b[0;34m(\u001b[0m\u001b[0;34m*\u001b[0m\u001b[0mcols\u001b[0m\u001b[0;34m)\u001b[0m\u001b[0;34m)\u001b[0m\u001b[0;34m\u001b[0m\u001b[0;34m\u001b[0m\u001b[0m\n\u001b[0m\u001b[1;32m   3228\u001b[0m         \u001b[0;32mreturn\u001b[0m \u001b[0mDataFrame\u001b[0m\u001b[0;34m(\u001b[0m\u001b[0mjdf\u001b[0m\u001b[0;34m,\u001b[0m \u001b[0mself\u001b[0m\u001b[0;34m.\u001b[0m\u001b[0msparkSession\u001b[0m\u001b[0;34m)\u001b[0m\u001b[0;34m\u001b[0m\u001b[0;34m\u001b[0m\u001b[0m\n\u001b[1;32m   3229\u001b[0m \u001b[0;34m\u001b[0m\u001b[0m\n",
            "\u001b[0;32m/usr/local/lib/python3.12/dist-packages/py4j/java_gateway.py\u001b[0m in \u001b[0;36m__call__\u001b[0;34m(self, *args)\u001b[0m\n\u001b[1;32m   1320\u001b[0m \u001b[0;34m\u001b[0m\u001b[0m\n\u001b[1;32m   1321\u001b[0m         \u001b[0manswer\u001b[0m \u001b[0;34m=\u001b[0m \u001b[0mself\u001b[0m\u001b[0;34m.\u001b[0m\u001b[0mgateway_client\u001b[0m\u001b[0;34m.\u001b[0m\u001b[0msend_command\u001b[0m\u001b[0;34m(\u001b[0m\u001b[0mcommand\u001b[0m\u001b[0;34m)\u001b[0m\u001b[0;34m\u001b[0m\u001b[0;34m\u001b[0m\u001b[0m\n\u001b[0;32m-> 1322\u001b[0;31m         return_value = get_return_value(\n\u001b[0m\u001b[1;32m   1323\u001b[0m             answer, self.gateway_client, self.target_id, self.name)\n\u001b[1;32m   1324\u001b[0m \u001b[0;34m\u001b[0m\u001b[0m\n",
            "\u001b[0;32m/usr/local/lib/python3.12/dist-packages/pyspark/errors/exceptions/captured.py\u001b[0m in \u001b[0;36mdeco\u001b[0;34m(*a, **kw)\u001b[0m\n\u001b[1;32m    183\u001b[0m                 \u001b[0;31m# Hide where the exception came from that shows a non-Pythonic\u001b[0m\u001b[0;34m\u001b[0m\u001b[0;34m\u001b[0m\u001b[0m\n\u001b[1;32m    184\u001b[0m                 \u001b[0;31m# JVM exception message.\u001b[0m\u001b[0;34m\u001b[0m\u001b[0;34m\u001b[0m\u001b[0m\n\u001b[0;32m--> 185\u001b[0;31m                 \u001b[0;32mraise\u001b[0m \u001b[0mconverted\u001b[0m \u001b[0;32mfrom\u001b[0m \u001b[0;32mNone\u001b[0m\u001b[0;34m\u001b[0m\u001b[0;34m\u001b[0m\u001b[0m\n\u001b[0m\u001b[1;32m    186\u001b[0m             \u001b[0;32melse\u001b[0m\u001b[0;34m:\u001b[0m\u001b[0;34m\u001b[0m\u001b[0;34m\u001b[0m\u001b[0m\n\u001b[1;32m    187\u001b[0m                 \u001b[0;32mraise\u001b[0m\u001b[0;34m\u001b[0m\u001b[0;34m\u001b[0m\u001b[0m\n",
            "\u001b[0;31mAnalysisException\u001b[0m: [AMBIGUOUS_REFERENCE] Reference `video_id` is ambiguous, could be: [`video_id`, `video_id`, `video_id`]."
          ]
        }
      ]
    },
    {
      "cell_type": "code",
      "source": [
        "df_course = spark.read.json(BASE_DIR + '/course.json')\n",
        "df_course.show(5,truncate=True)"
      ],
      "metadata": {
        "id": "D0K2aBbaiYxO"
      },
      "execution_count": null,
      "outputs": []
    },
    {
      "cell_type": "code",
      "source": [
        "df_video.printSchema()"
      ],
      "metadata": {
        "id": "KnksmdkrlLQM"
      },
      "execution_count": null,
      "outputs": []
    },
    {
      "cell_type": "code",
      "source": [
        "df_video.show(5)"
      ],
      "metadata": {
        "id": "Z4e7Ws8gdQne"
      },
      "execution_count": null,
      "outputs": []
    },
    {
      "cell_type": "code",
      "source": [
        "df_video_duration = df_video.select('video_id', 'duration')\n",
        "df_video_duration.show(5)"
      ],
      "metadata": {
        "id": "N4F62qzydV6M"
      },
      "execution_count": null,
      "outputs": []
    },
    {
      "cell_type": "code",
      "source": [
        "df_user_video.show(5)"
      ],
      "metadata": {
        "id": "NsxoJsREdr96"
      },
      "execution_count": null,
      "outputs": []
    },
    {
      "cell_type": "code",
      "source": [
        "df_user_video = df_user_video.join(df_video_duration, on=['video_id'], how='left')\n",
        "df_user_video.show(5)"
      ],
      "metadata": {
        "id": "xzvux2iceJ3Q"
      },
      "execution_count": null,
      "outputs": []
    },
    {
      "cell_type": "code",
      "source": [
        "df_uc_uv = df_uc_uv.join(df_video_duration, on = [\"video_id\"], how = 'left')\n",
        "df_uc_uv.show(5)"
      ],
      "metadata": {
        "id": "Jw_DFLn8eezk"
      },
      "execution_count": null,
      "outputs": []
    },
    {
      "cell_type": "code",
      "source": [
        "from pyspark.sql.functions import col, isnan, when, count\n",
        "df_uc_uv.count()\n",
        "df_uc_uv.select([count(when(col(c).isNull(), c)).alias(c) for c in df_uc_uv.columns]).show()"
      ],
      "metadata": {
        "id": "yfCuLQ4Rfz2h"
      },
      "execution_count": null,
      "outputs": []
    },
    {
      "cell_type": "code",
      "source": [
        "df_user_course.show(5)"
      ],
      "metadata": {
        "id": "luzIm55td611"
      },
      "execution_count": null,
      "outputs": []
    },
    {
      "cell_type": "code",
      "source": [
        "# df_uc_uv.write.mode('overwrite').parquet(MY_TEST_DIR)"
      ],
      "metadata": {
        "id": "0OsXTSTEJc8m"
      },
      "execution_count": null,
      "outputs": []
    },
    {
      "cell_type": "code",
      "source": [],
      "metadata": {
        "id": "VAOydvGaeBl8"
      },
      "execution_count": null,
      "outputs": []
    }
  ],
  "metadata": {
    "colab": {
      "provenance": [],
      "include_colab_link": true
    },
    "kernelspec": {
      "display_name": "Python 3",
      "name": "python3"
    },
    "language_info": {
      "name": "python"
    }
  },
  "nbformat": 4,
  "nbformat_minor": 0
}